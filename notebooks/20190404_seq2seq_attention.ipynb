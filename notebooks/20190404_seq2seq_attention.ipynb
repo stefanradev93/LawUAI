{
 "cells": [
  {
   "cell_type": "code",
   "execution_count": 1,
   "metadata": {},
   "outputs": [],
   "source": [
    "import numpy as np\n",
    "import tensorflow as tf\n",
    "import json\n",
    "import pickle\n",
    "import os\n",
    "import re\n",
    "from sklearn.model_selection import train_test_split\n",
    "from sklearn.metrics import accuracy_score, confusion_matrix\n",
    "import matplotlib.pyplot as plt\n",
    "\n",
    "%matplotlib inline"
   ]
  },
  {
   "cell_type": "code",
   "execution_count": 2,
   "metadata": {},
   "outputs": [],
   "source": [
    "from tensorflow.keras.preprocessing.text import Tokenizer\n",
    "from tensorflow.keras.preprocessing.sequence import pad_sequences"
   ]
  },
  {
   "cell_type": "code",
   "execution_count": 3,
   "metadata": {},
   "outputs": [],
   "source": [
    "from tqdm import tqdm_notebook as tqdm"
   ]
  },
  {
   "cell_type": "code",
   "execution_count": 4,
   "metadata": {},
   "outputs": [],
   "source": [
    "tf.enable_eager_execution()"
   ]
  },
  {
   "cell_type": "code",
   "execution_count": 64,
   "metadata": {
    "code_folding": [
     0
    ]
   },
   "outputs": [],
   "source": [
    "def preprocess_text(text, add_start_end=True):\n",
    "    \"\"\"A very basic function to preprocess the texts. Needs to be imporved.\"\"\"\n",
    "    \n",
    "    # creating a space between a word and the punctuation following it\n",
    "    # eg: \"he is a boy.\" => \"he is a boy .\" \n",
    "    # Reference:- https://stackoverflow.com/questions/3645931/python-padding-punctuation-with-white-spaces-keeping-punctuation\n",
    "    text = text.lower().strip()\n",
    "    text = re.sub(r\"([?.!,¿])\", r\" \\1 \", text)\n",
    "    text = re.sub(r'[\" \"]+', \" \", text)\n",
    "    \n",
    "    \n",
    "    # replacing everything with space except (a-z, A-Z, and german umlauts)\n",
    "    text = re.sub(r\"[^a-zA-ZäüßöÄÖÜ?]+\", \" \", text)\n",
    "    text = text.rstrip().strip()\n",
    "    \n",
    "    # Removing all single letter words\n",
    "    text = re.sub(r\"/(^|\\s+)(\\S(\\s+|$))+/\", \"\", text)\n",
    "    \n",
    "    # adding a start and an end token to the sentence\n",
    "    # so that the model know when to start and stop predicting.\n",
    "    if add_start_end:\n",
    "        text = '<start> ' + text + ' <end>'\n",
    "    return text"
   ]
  },
  {
   "cell_type": "code",
   "execution_count": 23,
   "metadata": {
    "code_folding": [
     0
    ]
   },
   "outputs": [],
   "source": [
    "def get_embeddings_matrix(tokenizer, vocab_size, embedding_dim=300):\n",
    "    \"\"\"Loads the glove vectors, assuming there is a folder called embeddings.\"\"\"\n",
    "    \n",
    "    # Get the word - idx dictionary\n",
    "    word_index = tokenizer.word_index\n",
    "\n",
    "    # Create a word - vector embedding dictionary (loading only the embeddings for words in our dictionary)        \n",
    "    embeddings_index = {}\n",
    "    with open('../embeddings/vectors.txt', 'r', encoding='utf-8') as f:\n",
    "        for line in f:\n",
    "            vector = line.split(' ')\n",
    "            word = vector[0]\n",
    "            if word in word_index:\n",
    "                embeddings_index[word] = np.array(vector[1:], dtype=np.float32)\n",
    "\n",
    "    # Create embedding matrix to laod into keras layer\n",
    "    embeddings_matrix = np.zeros((vocab_size, embedding_dim))\n",
    "    for word, i in word_index.items():\n",
    "        if i < vocab_size:\n",
    "            embedding_vector = embeddings_index.get(word)\n",
    "            if embedding_vector is not None:\n",
    "                embeddings_matrix[i] = embedding_vector\n",
    "            else:\n",
    "                embeddings_matrix[i] = np.random.rand(embedding_dim)\n",
    "        else:\n",
    "            break\n",
    "    return embeddings_matrix"
   ]
  },
  {
   "cell_type": "code",
   "execution_count": 24,
   "metadata": {
    "code_folding": [
     0
    ]
   },
   "outputs": [],
   "source": [
    "def load_single(which='Erbrecht'):\n",
    "    \"\"\"Loads a single dataset for testing.\"\"\"\n",
    "    \n",
    "    data = json.load(open('../Dataset/{}.json'.format(which), 'r', encoding='utf-8'))\n",
    "    questions, titles = [], []\n",
    "    for item in data:\n",
    "        question = preprocess_text(item['question'])\n",
    "        title = preprocess_text(item['title']) \n",
    "        questions.append(question)\n",
    "        titles.append(title)\n",
    "\n",
    "\n",
    "    print('Maximum length of questions: ', len(max(questions, key=lambda x: len(x.split())).split()))\n",
    "    print('Maximum length of titles: ', len(max(titles, key=lambda x: len(x.split())).split()))\n",
    "    return questions, titles"
   ]
  },
  {
   "cell_type": "code",
   "execution_count": 56,
   "metadata": {
    "code_folding": [
     0
    ]
   },
   "outputs": [],
   "source": [
    "def load_data(folder_path):\n",
    "    '''\n",
    "    Loads the JSON files puts them into a Python list (X) of strings\n",
    "    where each element in the list is a single question. It also sotres the category labels\n",
    "    into another list (y)\n",
    "    :param folder_path: the folder path that has json file for each category containing questions and answers\n",
    "    :return:\n",
    "    '''\n",
    "    print(\"loading the data ... \")\n",
    "    counter = 0\n",
    "    questions, titles = [], []\n",
    "    for f in os.listdir(folder_path):\n",
    "        if f.endswith(\"json\"):  # read all json files\n",
    "            file_path = os.path.join(folder_path, f)\n",
    "            contents = json.load(open(file_path, 'r', encoding='utf-8'))\n",
    "            for html_item in contents:\n",
    "                questions.append(preprocess_text(html_item['question'], add_start_end=False))\n",
    "                titles.append(preprocess_text(html_item['title']))\n",
    "            counter = counter + 1\n",
    "\n",
    "    print('Maximum length of questions: ', len(max(questions, key=lambda x: len(x.split())).split()))\n",
    "    print('Maximum length of titles: ', len(max(titles, key=lambda x: len(x.split())).split()))\n",
    "    return questions, titles"
   ]
  },
  {
   "cell_type": "code",
   "execution_count": 69,
   "metadata": {
    "code_folding": [
     0
    ]
   },
   "outputs": [],
   "source": [
    "def tokenize_and_pad(texts, vocab_size, max_len, filters=''):\n",
    "    \n",
    "    # Tokenization\n",
    "    tokenizer = Tokenizer(num_words=vocab_size, filters=filters)\n",
    "    tokenizer.fit_on_texts(texts)\n",
    "\n",
    "    # Create a sequence of words\n",
    "    texsts_seq = tokenizer.texts_to_sequences(texts)\n",
    "\n",
    "    # Pad words\n",
    "    texsts_seq = pad_sequences(texsts_seq, maxlen=max_len, padding='post')\n",
    "    \n",
    "    return texsts_seq, tokenizer"
   ]
  },
  {
   "cell_type": "markdown",
   "metadata": {},
   "source": [
    "## Classes"
   ]
  },
  {
   "cell_type": "code",
   "execution_count": 5,
   "metadata": {
    "code_folding": [
     0,
     22,
     48,
     87
    ]
   },
   "outputs": [],
   "source": [
    "class Encoder(tf.keras.Model):\n",
    "    def __init__(self, vocab_size, embedding_dim, enc_units):\n",
    "        super(Encoder, self).__init__()\n",
    "        self.enc_units = enc_units\n",
    "        self.embedding =  tf.keras.layers.Embedding(vocab_size, embedding_dim)\n",
    "        self.gru = tf.keras.layers.Bidirectional(\n",
    "                    tf.keras.layers.CuDNNGRU(self.enc_units, \n",
    "                                       return_sequences=True, \n",
    "                                       return_state=True, \n",
    "                                       recurrent_initializer='glorot_uniform')\n",
    "        )\n",
    "\n",
    "    def call(self, x):\n",
    "        x = self.embedding(x)\n",
    "        output = self.gru(x) \n",
    "        out = output[0]\n",
    "        hidden = tf.concat(output[1:], axis=-1)\n",
    "        return out, hidden\n",
    "    \n",
    "    def initialize_hidden(self, batch_size):\n",
    "        return tf.zeros((batch_size, self.enc_units))\n",
    "    \n",
    "class BahdanauAttention(tf.keras.Model):\n",
    "    def __init__(self, units):\n",
    "        super(BahdanauAttention, self).__init__()\n",
    "        self.W1 = tf.keras.layers.Dense(units)\n",
    "        self.W2 = tf.keras.layers.Dense(units)\n",
    "        self.V = tf.keras.layers.Dense(1)\n",
    "\n",
    "    def call(self, query, values):\n",
    "        # hidden shape == (batch_size, hidden size)\n",
    "        # hidden_with_time_axis shape == (batch_size, 1, hidden size)\n",
    "        # we are doing this to perform addition to calculate the score\n",
    "        hidden_with_time_axis = tf.expand_dims(query, 1)\n",
    "\n",
    "        # score shape == (batch_size, max_length, hidden_size)\n",
    "        score = self.V(tf.nn.tanh(self.W1(values) + self.W2(hidden_with_time_axis)))\n",
    "\n",
    "        # attention_weights shape == (batch_size, max_length, 1)\n",
    "        # we get 1 at the last axis because we are applying score to self.V\n",
    "        attention_weights = tf.nn.softmax(score, axis=1)\n",
    "\n",
    "        # context_vector shape after sum == (batch_size, hidden_size)\n",
    "        context_vector = attention_weights * values\n",
    "        context_vector = tf.reduce_sum(context_vector, axis=1)\n",
    "\n",
    "        return context_vector, attention_weights\n",
    "\n",
    "class Decoder(tf.keras.Model):\n",
    "    def __init__(self, vocab_size, embedding_dim, dec_units):\n",
    "        super(Decoder, self).__init__()\n",
    "        \n",
    "        self.dec_units = dec_units\n",
    "        self.embedding =  tf.keras.layers.Embedding(vocab_size, embedding_dim)\n",
    "        \n",
    "        self.gru = tf.keras.layers.CuDNNGRU(self.dec_units, \n",
    "                                       return_sequences=True, \n",
    "                                       return_state=True, \n",
    "                                       recurrent_initializer='glorot_uniform')\n",
    "        self.fc = tf.keras.layers.Dense(vocab_size)\n",
    "\n",
    "        # used for attention\n",
    "        self.attention = BahdanauAttention(self.dec_units)\n",
    "\n",
    "    def call(self, x, hidden, enc_output, probs=False):\n",
    "        # enc_output shape == (batch_size, max_length, hidden_size)\n",
    "        context_vector, attention_weights = self.attention(hidden, enc_output)\n",
    "\n",
    "        # x shape after passing through embedding == (batch_size, 1, embedding_dim)\n",
    "        x = self.embedding(x)\n",
    "\n",
    "        # x shape after concatenation == (batch_size, 1, embedding_dim + hidden_size)\n",
    "        x = tf.concat([tf.expand_dims(context_vector, 1), x], axis=-1)\n",
    "\n",
    "        # passing the concatenated vector to the GRU\n",
    "        output, state = self.gru(x)\n",
    "\n",
    "        # output shape == (batch_size * 1, hidden_size)\n",
    "        output = tf.reshape(output, (-1, output.shape[2]))\n",
    "\n",
    "        # output shape == (batch_size, vocab)\n",
    "        x = self.fc(output)\n",
    "        \n",
    "        if probs:\n",
    "            return tf.nn.softmax(x, axis=-1), state, attention_weights\n",
    "        return x, state, attention_weights\n",
    "    \n",
    "class TitleGenerator:\n",
    "    \n",
    "    def __init__(self, max_len_questions=450, max_len_titles=10, vocab_size_q=30000,  \n",
    "                 vocab_size_t=30000, embedding_dim=128, enc_units=128, dec_units=256):\n",
    "        self._max_len_q = max_len_questions\n",
    "        self._max_len_t = max_len_titles\n",
    "        self._load(vocab_size_q, vocab_size_t, embedding_dim, enc_units, dec_units)\n",
    "    \n",
    "    def _load(self, vocab_size_q, vocab_size_t, embedding_dim, enc_units, dec_units):\n",
    "        \"\"\"Load tokenizers and model.\"\"\"\n",
    "        \n",
    "        # ----- Load tokenizers and create word indices ----- #\n",
    "        self.questions_tokenizer = pickle.load(open(\"tokenizers/questions_tokenizer.pkl\", \"rb\"))\n",
    "        self.titles_tokenizer = pickle.load(open(\"tokenizers/titles_tokenizer.pkl\", \"rb\"))\n",
    "        self.word_index_q = self.questions_tokenizer.word_index\n",
    "        self.word_index_t = self.titles_tokenizer.word_index\n",
    "        self.index_word_q = {v: k for k, v in self.word_index_q.items()}\n",
    "        self.index_word_t = {v: k for k, v in self.word_index_t.items()}\n",
    "    \n",
    "        # ----- Load model and weights ----- #\n",
    "        self.encoder = Encoder(vocab_size_q, embedding_dim, enc_units=enc_units)\n",
    "        self.decoder = Decoder(vocab_size_t, embedding_dim, dec_units=dec_units)\n",
    "        self.encoder.load_weights(os.path.join(\"models\", \"encoder_\" + \"bidirectional_20epochs\"))\n",
    "        self.decoder.load_weights(os.path.join(\"models\", \"decoder_\" + \"bidirectional_20epochs\"))\n",
    "        \n",
    "    def _preprocess(self, text):\n",
    "        \"\"\"A very basic function to preprocess the texts. Needs to be imporved.\"\"\"\n",
    "          \n",
    "        # Reg exp cleaning\n",
    "        text = text.lower().strip()\n",
    "        text = re.sub(r\"([?.!,¿])\", r\" \\1 \", text)\n",
    "        text = re.sub(r'[\" \"]+', \" \", text)\n",
    "        text = re.sub(r\"[^a-zA-ZäüßöÄÖÜ?]+\", \" \", text)\n",
    "        text = text.rstrip().strip()\n",
    "        text = re.sub(r\"/(^|\\s+)(\\S(\\s+|$))+/\", \"\", text)\n",
    "        \n",
    "        # Tokenize, pad and convert to tensor\n",
    "        inputs = self.questions_tokenizer.texts_to_sequences([text])\n",
    "        inputs = tf.keras.preprocessing.sequence.pad_sequences(inputs, \n",
    "                                                           maxlen=self._max_len_q, \n",
    "                                                           padding='post') \n",
    "        inputs = tf.convert_to_tensor(inputs, dtype=tf.int32)\n",
    "        return inputs\n",
    "    \n",
    "    def generate_title(self, raw_text):\n",
    "        \"\"\"Generates the title given the supplied raw text.\"\"\"\n",
    "        \n",
    "        # Preprocess question\n",
    "        processed_text = self._preprocess(raw_text)\n",
    "        generated_title = ''\n",
    "        enc_out, enc_hidden = self.encoder(processed_text)\n",
    "        dec_hidden = enc_hidden\n",
    "        dec_input = tf.expand_dims([self.word_index_t['<start>']], 0)\n",
    "        \n",
    "        # Use the language model\n",
    "        for t in range(self._max_len_t):\n",
    "            predictions, dec_hidden, attention_weights = self.decoder(dec_input, dec_hidden, enc_out)\n",
    "            predicted_idx = tf.argmax(predictions[0]).numpy()\n",
    "            dec_input = tf.expand_dims([predicted_idx], 0) \n",
    "            generated_title += self.index_word_t[predicted_idx] + ' '\n",
    "            if self.index_word_t[predicted_idx] == '<end>':\n",
    "                return generated_title.replace(' <end> ', '').capitalize()\n",
    "        return generated_title.replace(' <end> ', '').capitalize()"
   ]
  },
  {
   "cell_type": "markdown",
   "metadata": {},
   "source": [
    "## Functions"
   ]
  },
  {
   "cell_type": "code",
   "execution_count": 409,
   "metadata": {
    "code_folding": [
     0,
     23,
     53,
     84,
     104
    ]
   },
   "outputs": [],
   "source": [
    "def compute_loss(true, pred):\n",
    "    \"\"\"\n",
    "    Computes the categorical cross-entropy.\n",
    "    -------------\n",
    "    INPUT:\n",
    "    true - tf.Tensor of shape (N_batches, )           - the true index values\n",
    "    pred - tf.Tensor of shape (N_batches, vocab_size) - the logits \n",
    "    -------------\n",
    "    OUTPUT:\n",
    "    Cross entropy between true and pred.\n",
    "    \"\"\"\n",
    "    \n",
    "    # Mask zero paddings\n",
    "    mask = tf.math.logical_not(tf.math.equal(true, 0))\n",
    "    \n",
    "    # Compute loss\n",
    "    loss = tf.nn.sparse_softmax_cross_entropy_with_logits(labels=true, logits=pred)\n",
    "\n",
    "    mask = tf.cast(mask, dtype=loss.dtype)\n",
    "    loss *= mask\n",
    "\n",
    "    return tf.reduce_mean(loss)\n",
    "\n",
    "def batch_step(questions_batch, titles_batch):\n",
    "    \"\"\"\n",
    "    Computes the loss for a single batch and does one backprop through time step.\n",
    "    Assumes the encoder, decoder, optimizer, and word_indices are defined in the global scope.\n",
    "    \"\"\"\n",
    "    \n",
    "    loss = 0\n",
    "    with tf.GradientTape() as tape:\n",
    "\n",
    "        # Encode questions\n",
    "        enc_output, enc_hidden = encoder(questions_batch)\n",
    "\n",
    "        # Initial decoder hidden state is the encoder hidden state (to which attention will be applied)\n",
    "        dec_hidden = enc_hidden\n",
    "        dec_input = tf.expand_dims([word_index_t['<start>']] * questions_batch.shape[0], 1)       \n",
    "\n",
    "        # Teacher forcing - feeding the target as the next input\n",
    "        for t in range(1, titles_batch.shape[1]):\n",
    "            predictions, dec_hidden, _ = decoder(dec_input, dec_hidden, enc_output)\n",
    "            loss += compute_loss(titles_batch[:, t], predictions)\n",
    "            dec_input = tf.expand_dims(titles_batch[:, t], 1)\n",
    "            \n",
    "        batch_loss = (loss / int(titles_batch.shape[1]))\n",
    "        \n",
    "    # Update parameters\n",
    "    variables = encoder.trainable_variables + decoder.trainable_variables\n",
    "    gradients = tape.gradient(batch_loss, variables)\n",
    "    optimizer.apply_gradients(zip(gradients, variables))\n",
    "    return batch_loss\n",
    "\n",
    "def generate_title(question, preprocess=True):\n",
    "    \"\"\"Generate a new title given question.\"\"\"\n",
    "    \n",
    "    # Preprocess question\n",
    "    if preprocess:\n",
    "        question = preprocess_text(question, add_start_end=False)\n",
    "    inputs = questions_tokenizer.texts_to_sequences([question])\n",
    "    inputs = tf.keras.preprocessing.sequence.pad_sequences(inputs, \n",
    "                                                           maxlen=max_len_questions, \n",
    "                                                           padding='post')\n",
    "    inputs = tf.convert_to_tensor(inputs)\n",
    "    \n",
    "    generated_title = ''\n",
    "\n",
    "    enc_out, enc_hidden = encoder(inputs)\n",
    "    dec_hidden = enc_hidden\n",
    "    dec_input = tf.expand_dims([word_index_t['<start>']], 0)\n",
    "    \n",
    "    for t in range(max_len_titles):\n",
    "        \n",
    "        predictions, dec_hidden, _ = decoder(dec_input, dec_hidden, enc_out)\n",
    "        \n",
    "        \n",
    "        predicted_idx = tf.argmax(predictions[0]).numpy()\n",
    "        generated_title += index_word_t[predicted_idx] + ' '\n",
    "        dec_input = tf.expand_dims([predicted_idx], 0) # the predicted ID is fed back into the model\n",
    "\n",
    "        if index_word_t[predicted_idx] == '<end>':\n",
    "            return generated_title\n",
    "    return generated_title\n",
    "\n",
    "def validate_model(questions_batch, titles_batch):\n",
    "    \"\"\"Computes validation loss and outputs some generated titles.\"\"\"\n",
    "    \n",
    "    loss = 0\n",
    "    # Encode questions\n",
    "    enc_output, enc_hidden = encoder(questions_batch)\n",
    "\n",
    "    # Initial decoder hidden state is the encoder hidden state (to which attention will be applied)\n",
    "    dec_hidden = enc_hidden\n",
    "    dec_input = tf.expand_dims([word_index_t['<start>']] * questions_batch.shape[0], 1)       \n",
    "\n",
    "    # Teacher forcing - feeding the target as the next input\n",
    "    for t in range(1, titles_batch.shape[1]):\n",
    "        predictions, dec_hidden, _ = decoder(dec_input, dec_hidden, enc_output)\n",
    "        loss += compute_loss(titles_batch[:, t], predictions)\n",
    "        dec_input = tf.expand_dims(titles_batch[:, t], 1)\n",
    "\n",
    "    batch_loss = (loss / int(titles_batch.shape[1]))\n",
    "    return batch_loss\n",
    "\n",
    "def generate_titles(questions_batch, titles_batch, how_many=5, idx_to_gen=None):\n",
    "    \n",
    "    # Pick random number of validation questions and titles\n",
    "    if idx_to_gen is None:\n",
    "        idx_to_gen = np.random.permutation(questions_batch.numpy().shape[0])[:how_many]\n",
    "    \n",
    "    # Generate # titles\n",
    "    for i in idx_to_gen:\n",
    "        \n",
    "        # Decode question and title\n",
    "        question = \" \".join([index_word_q[idx] for idx in questions_val[i].numpy() if idx != 0])\n",
    "        title = \" \".join([index_word_t[idx] for idx in titles_val[i].numpy() if idx!= 0])\n",
    "        # Generate title\n",
    "        generated_title = generate_title(question, preprocess=False)\n",
    "        print('----- Title of question #{} -----'.format(i))\n",
    "        print('Generated:', generated_title, 'True:', title)"
   ]
  },
  {
   "cell_type": "markdown",
   "metadata": {},
   "source": [
    "# Training steps\n",
    "\n",
    "\n",
    "1. Pass the input through the encoder which return encoder output and the encoder hidden state.\n",
    "2. The encoder output, encoder hidden state and the decoder input (which is the start token) is passed to the decoder.\n",
    "3. The decoder returns the predictions and the decoder hidden state.\n",
    "4. The decoder hidden state is then passed back into the model and the predictions are used to calculate the loss.\n",
    "5. Use teacher forcing to decide the next input to the decoder.\n",
    "6. Teacher forcing is the technique where the target word is passed as the next input to the decoder.\n",
    "7. The final step is to calculate the gradients and apply it to the optimizer and backpropagate."
   ]
  },
  {
   "cell_type": "markdown",
   "metadata": {},
   "source": [
    "## Load raw questions, preprocess, tokenize and save"
   ]
  },
  {
   "cell_type": "code",
   "execution_count": 218,
   "metadata": {},
   "outputs": [],
   "source": [
    "# questions, titles = load_data('../Dataset/')\n",
    "\n",
    "# embeddings_q = get_embeddings_matrix(questions_tokenizer, vocab_size_q, embedding_dim=embedding_dim)\n",
    "# embeddings_t = get_embeddings_matrix(titles_tokenizer, vocab_size_t, embedding_dim=embedding_dim)\n",
    "\n",
    "# questions_seq, questions_tokenizer = tokenize_and_pad(questions, vocab_size_q, max_len=max_len_questions, filters=\"\")\n",
    "# titles_seq, titles_tokenizer = tokenize_and_pad(titles, vocab_size_t, max_len=max_len_titles, filters=\"\")\n",
    "\n",
    "# # Save sequence data and tokenizers\n",
    "# np.save(\"questions_seq.npy\", questions_seq)\n",
    "# np.save(\"titles_seq.npy\", titles_seq)\n",
    " \n",
    "# pickle.dump(questions_tokenizer, open('questions_tokenizer.pkl', 'wb'))\n",
    "# pickle.dump(titles_tokenizer, open('titles_tokenizer.pkl', 'wb'))"
   ]
  },
  {
   "cell_type": "markdown",
   "metadata": {},
   "source": [
    "## Load tokenized questions and titles"
   ]
  },
  {
   "cell_type": "code",
   "execution_count": 234,
   "metadata": {},
   "outputs": [],
   "source": [
    "questions_seq = np.load(\"questions_seq.npy\")\n",
    "titles_seq = np.load(\"titles_seq.npy\")\n",
    "\n",
    "questions_tokenizer = pickle.load(open(\"questions_tokenizer.pkl\", \"rb\"))\n",
    "titles_tokenizer = pickle.load(open(\"titles_tokenizer.pkl\", \"rb\"))\n",
    "\n",
    "word_index_q = questions_tokenizer.word_index\n",
    "word_index_t = titles_tokenizer.word_index\n",
    "index_word_q = {v: k for k, v in word_index_q.items()}\n",
    "index_word_t = {v: k for k, v in word_index_t.items()}\n",
    "\n",
    "\n",
    "questions_seq, questions_val, titles_seq, titles_val = train_test_split(questions_seq, titles_seq, test_size=0.001)\n",
    "\n",
    "print(questions_seq.shape)\n",
    "print(titles_seq.shape)\n",
    "print(questions_val.shape)\n",
    "print(titles_val.shape)\n",
    "\n",
    "\n",
    "questions_val = tf.convert_to_tensor(questions_val, dtype=tf.int32)\n",
    "titles_val = tf.convert_to_tensor(titles_val, dtype=tf.int32)"
   ]
  },
  {
   "cell_type": "markdown",
   "metadata": {},
   "source": [
    "## Model and training hyperparameters"
   ]
  },
  {
   "cell_type": "code",
   "execution_count": 414,
   "metadata": {},
   "outputs": [],
   "source": [
    "# Trainiing parameters\n",
    "batch_size = 128\n",
    "learning_rate = 0.005\n",
    "epochs = 20\n",
    "enc_units = 128\n",
    "dec_units = 256\n",
    "max_len_questions = 450\n",
    "max_len_titles = 10\n",
    "vocab_size_q = 30000\n",
    "vocab_size_t = 30000\n",
    "embedding_dim = 128"
   ]
  },
  {
   "cell_type": "markdown",
   "metadata": {},
   "source": [
    "## Create and train model"
   ]
  },
  {
   "cell_type": "code",
   "execution_count": 412,
   "metadata": {},
   "outputs": [],
   "source": [
    "encoder = Encoder(vocab_size_q, embedding_dim, enc_units=enc_units)\n",
    "decoder = Decoder(vocab_size_t, embedding_dim, dec_units=dec_units)\n",
    "optimizer = tf.train.RMSPropOptimizer(learning_rate=learning_rate)\n",
    "dataset = tf.data.Dataset.from_tensor_slices((questions_seq, titles_seq))\n",
    "dataset = dataset.shuffle(questions_seq.shape[0]).batch(batch_size)"
   ]
  },
  {
   "cell_type": "markdown",
   "metadata": {},
   "source": [
    "### Train for 20 epochs"
   ]
  },
  {
   "cell_type": "code",
   "execution_count": 415,
   "metadata": {
    "scrolled": true
   },
   "outputs": [
    {
     "data": {
      "application/vnd.jupyter.widget-view+json": {
       "model_id": "fbd9a93bfa0e4756a8d335bb736ca2f3",
       "version_major": 2,
       "version_minor": 0
      },
      "text/plain": [
       "HBox(children=(IntProgress(value=0, description='Epoch 1', max=780, style=ProgressStyle(description_width='ini…"
      ]
     },
     "metadata": {},
     "output_type": "display_data"
    },
    {
     "name": "stdout",
     "output_type": "stream",
     "text": [
      "\n",
      "----- Title of question #85 -----\n",
      "Generated: unterhalt für die mutter <end>  True: <start> hartz ablehnung wegen verwertbaren vermögen <end>\n",
      "----- Title of question #31 -----\n",
      "Generated: ladendiebstahl <end>  True: <start> wiederholter ladendiebstahl verbeamtung ? <end>\n",
      "----- Title of question #55 -----\n",
      "Generated: rücktritt vom kaufvertrag <end>  True: <start> neuwagenkauf über freien vermittler <end>\n",
      "----- Title of question #78 -----\n",
      "Generated: ebay kleinanzeigen <end>  True: <start> pkw haftpflicht schaden schutzplanke unberechtigte forderungen <end>\n",
      "----- Title of question #22 -----\n",
      "Generated: ebay kleinanzeigen <end>  True: <start> wegerecht täuschung bei kaufvertrag <end>\n",
      "----- Title of question #4 -----\n",
      "Generated: kündigung <end>  True: <start> wahl des beirates einer weg <end>\n",
      "----- Title of question #59 -----\n",
      "Generated: <end>  True: <start> rückbau von pv anlagen auf in hessen ? <end>\n",
      "----- Title of question #32 -----\n",
      "Generated: ebay kleinanzeigen <end>  True: <start> auto war totalschaden <end>\n",
      "----- Title of question #23 -----\n",
      "Generated: rücktritt vom kaufvertrag <end>  True: in belgien versand auf die philippinen gerät nach monaten <end>\n",
      "----- Title of question #0 -----\n",
      "Generated: kündigung wegen eigenbedarf <end>  True: <start> krankschreibung überprüfung <end>\n"
     ]
    },
    {
     "data": {
      "application/vnd.jupyter.widget-view+json": {
       "model_id": "9fe1013fb76a408e99f914a8ff042d71",
       "version_major": 2,
       "version_minor": 0
      },
      "text/plain": [
       "HBox(children=(IntProgress(value=0, description='Epoch 2', max=780, style=ProgressStyle(description_width='ini…"
      ]
     },
     "metadata": {},
     "output_type": "display_data"
    },
    {
     "name": "stdout",
     "output_type": "stream",
     "text": [
      "\n",
      "----- Title of question #27 -----\n",
      "Generated: mietvertrag mit wohnung <end>  True: <start> kostenübernahme für übernommene bauliche änderungen rechtens ? <end>\n",
      "----- Title of question #50 -----\n",
      "Generated: ladendiebstahl <end>  True: <start> strafmaß bedrohung und beleidigung gegen firma <end>\n",
      "----- Title of question #19 -----\n",
      "Generated: unterhalt für volljährige kinder <end>  True: für vergangene zeiten wenn sie sich von nun an <end>\n",
      "----- Title of question #31 -----\n",
      "Generated: ladendiebstahl ladendiebstahl <end>  True: <start> wiederholter ladendiebstahl verbeamtung ? <end>\n",
      "----- Title of question #13 -----\n",
      "Generated: kündigung durch arbeitnehmer <end>  True: <start> urlaubsabgeltung bei kündigung in probezeit nach krankheit <end>\n",
      "----- Title of question #14 -----\n",
      "Generated: <end>  True: <start> variabler gehaltsbestandteil aber ziele nicht definiert vergessen <end>\n",
      "----- Title of question #94 -----\n",
      "Generated: kindesunterhalt bei kindesunterhalt <end>  True: <start> zuzahlung fürs pflegeheim meiner mutter <end>\n",
      "----- Title of question #42 -----\n",
      "Generated: außerordentliche kündigung eines <end>  True: <start> fristlose kündigung eines gesellschaftervertrags fondgesellschaft möglich ? <end>\n",
      "----- Title of question #85 -----\n",
      "Generated: alg ii <end>  True: <start> hartz ablehnung wegen verwertbaren vermögen <end>\n",
      "----- Title of question #10 -----\n",
      "Generated: ladendiebstahl <end>  True: <start> verleumdung und rufmord <end>\n"
     ]
    },
    {
     "data": {
      "application/vnd.jupyter.widget-view+json": {
       "model_id": "44e7a7bd200c43979b5f9c22c7359fbf",
       "version_major": 2,
       "version_minor": 0
      },
      "text/plain": [
       "HBox(children=(IntProgress(value=0, description='Epoch 3', max=780, style=ProgressStyle(description_width='ini…"
      ]
     },
     "metadata": {},
     "output_type": "display_data"
    },
    {
     "name": "stdout",
     "output_type": "stream",
     "text": [
      "\n",
      "----- Title of question #32 -----\n",
      "Generated: kfz verkauf <end>  True: <start> auto war totalschaden <end>\n",
      "----- Title of question #80 -----\n",
      "Generated: kündigung während probezeit <end>  True: <start> eigene kündigung zum ende der elternzeit <end>\n",
      "----- Title of question #54 -----\n",
      "Generated: mietrecht <end>  True: <start> nachvermietung gewerblicher räume <end>\n",
      "----- Title of question #45 -----\n",
      "Generated: widerruf eines <end>  True: <start> widerruf handyvertrag <end>\n",
      "----- Title of question #63 -----\n",
      "Generated: unterhalt für kind <end>  True: <start> unterhalt an volljährigen sohn durfte er ausziehen ? <end>\n",
      "----- Title of question #21 -----\n",
      "Generated: vermieter verlangt mieter <end>  True: mich der vermieter zur renovierung vor einzug erpressen ? <end>\n",
      "----- Title of question #16 -----\n",
      "Generated: befristeter arbeitsvertrag und kündigung <end>  True: <start> zeit und sachbefristung <end>\n",
      "----- Title of question #90 -----\n",
      "Generated: einkommensteuer für einkommenssteuer <end>  True: <start> besteuerung rente aus singapur <end>\n",
      "----- Title of question #44 -----\n",
      "Generated: kündigung während der kündigung <end>  True: <start> kündigung duch arbeitgeber <end>\n",
      "----- Title of question #98 -----\n",
      "Generated: trennung <end>  True: habe ich ihn vor die tür zu setzen ? <end>\n"
     ]
    },
    {
     "data": {
      "application/vnd.jupyter.widget-view+json": {
       "model_id": "6e72023ce6304fa48423b3f5f9c42950",
       "version_major": 2,
       "version_minor": 0
      },
      "text/plain": [
       "HBox(children=(IntProgress(value=0, description='Epoch 4', max=780, style=ProgressStyle(description_width='ini…"
      ]
     },
     "metadata": {},
     "output_type": "display_data"
    },
    {
     "name": "stdout",
     "output_type": "stream",
     "text": [
      "\n",
      "----- Title of question #58 -----\n",
      "Generated: beamtenrecht <end>  True: <start> arbeitsunfähigkeitsbescheinigung <end>\n",
      "----- Title of question #5 -----\n",
      "Generated: fristlose kündigung wegen kündigung <end>  True: fristlose kündigung um zu wandeln in eine fristgerechte ? <end>\n",
      "----- Title of question #86 -----\n",
      "Generated: erbrecht <end>  True: <start> erbfolge brd <end>\n",
      "----- Title of question #51 -----\n",
      "Generated: bewährung wegen betrugs <end>  True: <start> betrug vor einer verurteilung <end>\n",
      "----- Title of question #64 -----\n",
      "Generated: mietrecht auszug <end>  True: <start> mietvertrag renovierung und mietminderung ? <end>\n",
      "----- Title of question #24 -----\n",
      "Generated: kündigung durch ag <end>  True: <start> sind meine kündigungen rechtlich wirksam oder nicht ? <end>\n",
      "----- Title of question #75 -----\n",
      "Generated: unterschlagung ? <end>  True: <start> konto meiner frau aufgelöst <end>\n",
      "----- Title of question #8 -----\n",
      "Generated: ebay verkäufer will nicht zurück <end>  True: <start> privatkauf mit mängeln frage zur rückgabe <end>\n",
      "----- Title of question #37 -----\n",
      "Generated: steuerrecht bei wohnsitz in der schweiz <end>  True: <start> abwanderung in die schweiz <end>\n",
      "----- Title of question #60 -----\n",
      "Generated: anzeige wegen betrugs <end>  True: <start> nötigung kreditbetrug <end>\n"
     ]
    },
    {
     "data": {
      "application/vnd.jupyter.widget-view+json": {
       "model_id": "82d19cb8271246849ccf83d9faa68d99",
       "version_major": 2,
       "version_minor": 0
      },
      "text/plain": [
       "HBox(children=(IntProgress(value=0, description='Epoch 5', max=780, style=ProgressStyle(description_width='ini…"
      ]
     },
     "metadata": {},
     "output_type": "display_data"
    },
    {
     "name": "stdout",
     "output_type": "stream",
     "text": [
      "\n",
      "----- Title of question #64 -----\n",
      "Generated: küche vermieter <end>  True: <start> mietvertrag renovierung und mietminderung ? <end>\n",
      "----- Title of question #85 -----\n",
      "Generated: alg ii und alg ii <end>  True: <start> hartz ablehnung wegen verwertbaren vermögen <end>\n",
      "----- Title of question #18 -----\n",
      "Generated: krankenversicherung nach deutschland <end>  True: <start> wer übernimmt krankheitskosten bei entsendung des arbeitnehmers ? <end>\n",
      "----- Title of question #52 -----\n",
      "Generated: testament und testament <end>  True: <start> brauche vergleichsurteile zwecks testamentsüberprüfung stück <end>\n",
      "----- Title of question #63 -----\n",
      "Generated: unterhalt für volljährige tochter <end>  True: <start> unterhalt an volljährigen sohn durfte er ausziehen ? <end>\n",
      "----- Title of question #1 -----\n",
      "Generated: ladendiebstahl und <end>  True: <start> eintragung in polizeiliches führungszeugniss <end>\n",
      "----- Title of question #33 -----\n",
      "Generated: urlaubsanspruch bei kündigung <end>  True: <start> urlaubsanspruch bei rentenbeginn <end>\n",
      "----- Title of question #16 -----\n",
      "Generated: neuer arbeitsvertrag <end>  True: <start> zeit und sachbefristung <end>\n",
      "----- Title of question #59 -----\n",
      "Generated: parken durch den grundstück <end>  True: <start> rückbau von pv anlagen auf in hessen ? <end>\n",
      "----- Title of question #31 -----\n",
      "Generated: diebstahl erwischt <end>  True: <start> wiederholter ladendiebstahl verbeamtung ? <end>\n"
     ]
    },
    {
     "data": {
      "application/vnd.jupyter.widget-view+json": {
       "model_id": "40d3f00214cf4875aa7dcce085d0f580",
       "version_major": 2,
       "version_minor": 0
      },
      "text/plain": [
       "HBox(children=(IntProgress(value=0, description='Epoch 6', max=780, style=ProgressStyle(description_width='ini…"
      ]
     },
     "metadata": {},
     "output_type": "display_data"
    },
    {
     "name": "stdout",
     "output_type": "stream",
     "text": [
      "\n",
      "----- Title of question #0 -----\n",
      "Generated: arbeitsrecht <end>  True: <start> krankschreibung überprüfung <end>\n",
      "----- Title of question #45 -----\n",
      "Generated: widerruf eines online shop <end>  True: <start> widerruf handyvertrag <end>\n",
      "----- Title of question #95 -----\n",
      "Generated: üble nachrede <end>  True: <start> strafanzeige wegen internetveröffentlichung gegen einen verein <end>\n",
      "----- Title of question #15 -----\n",
      "Generated: fitnessstudio vertrag <end>  True: <start> ausstieg aus fitnessstudio vertrag <end>\n",
      "----- Title of question #75 -----\n",
      "Generated: anzeige wegen unterschlagung <end>  True: <start> konto meiner frau aufgelöst <end>\n",
      "----- Title of question #85 -----\n",
      "Generated: alg ii <end>  True: <start> hartz ablehnung wegen verwertbaren vermögen <end>\n",
      "----- Title of question #5 -----\n",
      "Generated: fristlose kündigung diebstahl <end>  True: fristlose kündigung um zu wandeln in eine fristgerechte ? <end>\n",
      "----- Title of question #14 -----\n",
      "Generated: <end>  True: <start> variabler gehaltsbestandteil aber ziele nicht definiert vergessen <end>\n",
      "----- Title of question #50 -----\n",
      "Generated: anzeige wegen beleidigung ? <end>  True: <start> strafmaß bedrohung und beleidigung gegen firma <end>\n",
      "----- Title of question #26 -----\n",
      "Generated: mietvertrag wohnung <end>  True: <start> wer ist eigentümer <end>\n"
     ]
    },
    {
     "data": {
      "application/vnd.jupyter.widget-view+json": {
       "model_id": "3fe79a26e94e40efb51c9727c923aaf1",
       "version_major": 2,
       "version_minor": 0
      },
      "text/plain": [
       "HBox(children=(IntProgress(value=0, description='Epoch 7', max=780, style=ProgressStyle(description_width='ini…"
      ]
     },
     "metadata": {},
     "output_type": "display_data"
    },
    {
     "name": "stdout",
     "output_type": "stream",
     "text": [
      "\n",
      "----- Title of question #10 -----\n",
      "Generated: verleumdung üble nachrede <end>  True: <start> verleumdung und rufmord <end>\n",
      "----- Title of question #47 -----\n",
      "Generated: einbürgerung bei auslandsaufenthalt <end>  True: <start> grundsicherungsrente <end>\n",
      "----- Title of question #17 -----\n",
      "Generated: widerruf einer erbschaft <end>  True: jetzt machen damit ich die erbschaft ausschlagen kann ? <end>\n",
      "----- Title of question #61 -----\n",
      "Generated: mpu in der deutschen führerschein <end>  True: <start> hallo fs ohne mpu ? <end>\n",
      "----- Title of question #63 -----\n",
      "Generated: selbstbehalt bei kindern <end>  True: <start> unterhalt an volljährigen sohn durfte er ausziehen ? <end>\n",
      "----- Title of question #44 -----\n",
      "Generated: kündigung durch arbeitgeber <end>  True: <start> kündigung duch arbeitgeber <end>\n",
      "----- Title of question #5 -----\n",
      "Generated: fristlose kündigung wegen mobbing <end>  True: fristlose kündigung um zu wandeln in eine fristgerechte ? <end>\n",
      "----- Title of question #36 -----\n",
      "Generated: handwerkerrechnung <end>  True: <start> kostenvoranschlag <end>\n",
      "----- Title of question #84 -----\n",
      "Generated: familienversicherung familienversicherung <end>  True: <start> krankenversicherung familienversicherung rückwirkend <end>\n",
      "----- Title of question #52 -----\n",
      "Generated: frage zur auskunft über den pflichtteil ? <end>  True: <start> brauche vergleichsurteile zwecks testamentsüberprüfung stück <end>\n"
     ]
    },
    {
     "data": {
      "application/vnd.jupyter.widget-view+json": {
       "model_id": "9217b40762c84ca9b328de719d3cbea8",
       "version_major": 2,
       "version_minor": 0
      },
      "text/plain": [
       "HBox(children=(IntProgress(value=0, description='Epoch 8', max=780, style=ProgressStyle(description_width='ini…"
      ]
     },
     "metadata": {},
     "output_type": "display_data"
    },
    {
     "name": "stdout",
     "output_type": "stream",
     "text": [
      "\n",
      "----- Title of question #27 -----\n",
      "Generated: mietvertrag mit dem mietvertrag <end>  True: <start> kostenübernahme für übernommene bauliche änderungen rechtens ? <end>\n",
      "----- Title of question #57 -----\n",
      "Generated: pflichtteil bei schenkung <end>  True: <start> höhe des pflichtteils <end>\n",
      "----- Title of question #67 -----\n",
      "Generated: partner will mich aus der firma sind <end>  True: <start> welche voraussetzungen müssen vorliegen damit das gewerbeamt ein <end>\n",
      "----- Title of question #90 -----\n",
      "Generated: <end>  True: <start> besteuerung rente aus singapur <end>\n",
      "----- Title of question #77 -----\n",
      "Generated: anzeige wegen betrug <end>  True: internet bestellt und nicht bezahlt jetzt anzeige wegen warenkreditbetrug <end>\n",
      "----- Title of question #3 -----\n",
      "Generated: auf der fahrerlaubnis ohne führerschein <end>  True: <start> namensänderung per <end>\n",
      "----- Title of question #56 -----\n",
      "Generated: garantie gewährleistung <end>  True: mit der garantie einer gekauften küche was tun ? <end>\n",
      "----- Title of question #49 -----\n",
      "Generated: rechnung von rechnung <end>  True: <start> ware unvollständig erhalten <end>\n",
      "----- Title of question #0 -----\n",
      "Generated: bei der <end>  True: <start> krankschreibung überprüfung <end>\n",
      "----- Title of question #37 -----\n",
      "Generated: firma in deutschland <end>  True: <start> abwanderung in die schweiz <end>\n"
     ]
    },
    {
     "data": {
      "application/vnd.jupyter.widget-view+json": {
       "model_id": "ec9bc203ab554b26a6ef51e755863101",
       "version_major": 2,
       "version_minor": 0
      },
      "text/plain": [
       "HBox(children=(IntProgress(value=0, description='Epoch 9', max=780, style=ProgressStyle(description_width='ini…"
      ]
     },
     "metadata": {},
     "output_type": "display_data"
    },
    {
     "name": "stdout",
     "output_type": "stream",
     "text": [
      "\n",
      "----- Title of question #72 -----\n",
      "Generated: grundbuch <end>  True: <start> lv umschreiben lassen <end>\n",
      "----- Title of question #16 -----\n",
      "Generated: neuer arbeitsvertrag kündigung während der elternzeit <end>  True: <start> zeit und sachbefristung <end>\n",
      "----- Title of question #44 -----\n",
      "Generated: kündigung des arbeitsverhältnisses <end>  True: <start> kündigung duch arbeitgeber <end>\n",
      "----- Title of question #81 -----\n",
      "Generated: widerspruch gegen bußgeldbescheid <end>  True: <start> wirksamkeit e bußgeldbescheides <end>\n",
      "----- Title of question #62 -----\n",
      "Generated: nachträgliche änderung der wohnung <end>  True: einer vermieteten immo anders angekündigte bebauung des nachb grundstück <end>\n",
      "----- Title of question #6 -----\n",
      "Generated: unterhalt für jährigen sohn <end>  True: <start> unterhaltszahlung ab <end>\n",
      "----- Title of question #63 -----\n",
      "Generated: unterhalt für kind <end>  True: <start> unterhalt an volljährigen sohn durfte er ausziehen ? <end>\n",
      "----- Title of question #2 -----\n",
      "Generated: unterhalt für meine tochter <end>  True: behörde mir von meinem einkommen sozialhilfe wegnehmen kindesunterhalt ? <end>\n",
      "----- Title of question #54 -----\n",
      "Generated: auszug aus dem umzug <end>  True: <start> nachvermietung gewerblicher räume <end>\n",
      "----- Title of question #48 -----\n",
      "Generated: unterhalt für jährigen sohn <end>  True: <start> unterhalt für meinen sohn ausbildung <end>\n"
     ]
    },
    {
     "data": {
      "application/vnd.jupyter.widget-view+json": {
       "model_id": "2ccbc8505f4249d9907880fd8ae0e02e",
       "version_major": 2,
       "version_minor": 0
      },
      "text/plain": [
       "HBox(children=(IntProgress(value=0, description='Epoch 10', max=780, style=ProgressStyle(description_width='in…"
      ]
     },
     "metadata": {},
     "output_type": "display_data"
    },
    {
     "name": "stdout",
     "output_type": "stream",
     "text": [
      "\n",
      "----- Title of question #19 -----\n",
      "Generated: unterhalt trotz krankheit <end>  True: für vergangene zeiten wenn sie sich von nun an <end>\n",
      "----- Title of question #65 -----\n",
      "Generated: probleme mit einer will nicht eingehalten <end>  True: <start> uhrenkauf unter falschen tatsachen zum kauf <end>\n",
      "----- Title of question #46 -----\n",
      "Generated: alg ii und miete bei alg ii <end>  True: <start> wenn schwester alg bei bruder berufstätig <end>\n",
      "----- Title of question #75 -----\n",
      "Generated: bedrohung mit falschem namen <end>  True: <start> konto meiner frau aufgelöst <end>\n",
      "----- Title of question #23 -----\n",
      "Generated: gewährleistung bei nicht in den artikel <end>  True: in belgien versand auf die philippinen gerät nach monaten <end>\n",
      "----- Title of question #71 -----\n",
      "Generated: gutachten für die erstattung von privat an die erstattung <end>  True: welche kosten müssen beim erfolgten rücktritt erstattet werden ? <end>\n",
      "----- Title of question #3 -----\n",
      "Generated: auf eu führerschein in deutschland <end>  True: <start> namensänderung per <end>\n",
      "----- Title of question #47 -----\n",
      "Generated: kein geld für selbstständige <end>  True: <start> grundsicherungsrente <end>\n",
      "----- Title of question #53 -----\n",
      "Generated: <end>  True: <start> übernahme des grundstückes ohne abgrenzungen <end>\n",
      "----- Title of question #37 -----\n",
      "Generated: in der schweiz kündigung eines arbeitnehmers in der schweiz <end>  True: <start> abwanderung in die schweiz <end>\n"
     ]
    },
    {
     "data": {
      "application/vnd.jupyter.widget-view+json": {
       "model_id": "eec8953b17574b39ac87fc969cf158ff",
       "version_major": 2,
       "version_minor": 0
      },
      "text/plain": [
       "HBox(children=(IntProgress(value=0, description='Epoch 11', max=780, style=ProgressStyle(description_width='in…"
      ]
     },
     "metadata": {},
     "output_type": "display_data"
    },
    {
     "name": "stdout",
     "output_type": "stream",
     "text": [
      "\n",
      "----- Title of question #18 -----\n",
      "Generated: von den pkv für die eines in deutschland und krankenversicherung  True: <start> wer übernimmt krankheitskosten bei entsendung des arbeitnehmers ? <end>\n",
      "----- Title of question #91 -----\n",
      "Generated: scheidung ohne scheidung <end>  True: <start> scheidung von einer filipina versorgungsausgleich <end>\n",
      "----- Title of question #31 -----\n",
      "Generated: ladendiebstahl was ist zu ? <end>  True: <start> wiederholter ladendiebstahl verbeamtung ? <end>\n",
      "----- Title of question #72 -----\n",
      "Generated: <end>  True: <start> lv umschreiben lassen <end>\n",
      "----- Title of question #22 -----\n",
      "Generated: anfechtung wegen nicht zur <end>  True: <start> wegerecht täuschung bei kaufvertrag <end>\n",
      "----- Title of question #46 -----\n",
      "Generated: alg und alg <end>  True: <start> wenn schwester alg bei bruder berufstätig <end>\n",
      "----- Title of question #84 -----\n",
      "Generated: familienversicherung nach der <end>  True: <start> krankenversicherung familienversicherung rückwirkend <end>\n",
      "----- Title of question #94 -----\n",
      "Generated: anrechnung von unterhaltszahlungen <end>  True: <start> zuzahlung fürs pflegeheim meiner mutter <end>\n",
      "----- Title of question #79 -----\n",
      "Generated: ware soll ich meinen pflichtteil nicht bezahlt <end>  True: <start> angebliche schenkung unrechtmäßige bereicherung <end>\n",
      "----- Title of question #73 -----\n",
      "Generated: hartz iv <end>  True: <start> hartz mietrecht <end>\n"
     ]
    },
    {
     "data": {
      "application/vnd.jupyter.widget-view+json": {
       "model_id": "853977c15d744a568daa828110994083",
       "version_major": 2,
       "version_minor": 0
      },
      "text/plain": [
       "HBox(children=(IntProgress(value=0, description='Epoch 12', max=780, style=ProgressStyle(description_width='in…"
      ]
     },
     "metadata": {},
     "output_type": "display_data"
    },
    {
     "name": "stdout",
     "output_type": "stream",
     "text": [
      "\n",
      "----- Title of question #41 -----\n",
      "Generated: <end>  True: <start> grundsteuer mahnung vollstreckungsankündigung <end>\n",
      "----- Title of question #10 -----\n",
      "Generated: verleumdung üble nachrede <end>  True: <start> verleumdung und rufmord <end>\n",
      "----- Title of question #36 -----\n",
      "Generated: handwerker rechnungen für handwerker ware <end>  True: <start> kostenvoranschlag <end>\n",
      "----- Title of question #68 -----\n",
      "Generated: erstattung von erben gegen zinsen <end>  True: <start> pflichtteilsanspruch mit bedingung ? <end>\n",
      "----- Title of question #0 -----\n",
      "Generated: abmahnung durch arbeitgeber <end>  True: <start> krankschreibung überprüfung <end>\n",
      "----- Title of question #33 -----\n",
      "Generated: urlaubsanspruch bei kündigung <end>  True: <start> urlaubsanspruch bei rentenbeginn <end>\n",
      "----- Title of question #62 -----\n",
      "Generated: kauf einer eigentumswohnung wasser im keller <end>  True: einer vermieteten immo anders angekündigte bebauung des nachb grundstück <end>\n",
      "----- Title of question #35 -----\n",
      "Generated: handwerkerrechnung <end>  True: <start> differenz zwischen angebot und schlußrechnung <end>\n",
      "----- Title of question #48 -----\n",
      "Generated: unterhalt für den jährigen sohn <end>  True: <start> unterhalt für meinen sohn ausbildung <end>\n",
      "----- Title of question #91 -----\n",
      "Generated: scheidung unterhalt <end>  True: <start> scheidung von einer filipina versorgungsausgleich <end>\n"
     ]
    },
    {
     "data": {
      "application/vnd.jupyter.widget-view+json": {
       "model_id": "3ccf9bf61dbe4b9c9abd050f722718f4",
       "version_major": 2,
       "version_minor": 0
      },
      "text/plain": [
       "HBox(children=(IntProgress(value=0, description='Epoch 13', max=780, style=ProgressStyle(description_width='in…"
      ]
     },
     "metadata": {},
     "output_type": "display_data"
    },
    {
     "name": "stdout",
     "output_type": "stream",
     "text": [
      "\n",
      "----- Title of question #0 -----\n",
      "Generated: krankengeld bei krankheit <end>  True: <start> krankschreibung überprüfung <end>\n",
      "----- Title of question #8 -----\n",
      "Generated: kauf eines <end>  True: <start> privatkauf mit mängeln frage zur rückgabe <end>\n",
      "----- Title of question #51 -----\n",
      "Generated: straftat nach stgb <end>  True: <start> betrug vor einer verurteilung <end>\n",
      "----- Title of question #64 -----\n",
      "Generated: mietrecht wohnungsübergabe <end>  True: <start> mietvertrag renovierung und mietminderung ? <end>\n",
      "----- Title of question #28 -----\n",
      "Generated: verpflichtung zur unterhaltszahlung <end>  True: <start> rückzahlung der studiengebühren an den arbeitgeber <end>\n",
      "----- Title of question #65 -----\n",
      "Generated: betrug auf den das fahrzeug <end>  True: <start> uhrenkauf unter falschen tatsachen zum kauf <end>\n",
      "----- Title of question #44 -----\n",
      "Generated: kündigung des arbeitsverhältnisses <end>  True: <start> kündigung duch arbeitgeber <end>\n",
      "----- Title of question #33 -----\n",
      "Generated: urlaubsanspruch bei kündigung <end>  True: <start> urlaubsanspruch bei rentenbeginn <end>\n",
      "----- Title of question #7 -----\n",
      "Generated: elternzeit mit der elternzeit <end>  True: <start> teilzeit in elternzeit änderungsvertrag oder ergänzungsvertrag <end>\n",
      "----- Title of question #5 -----\n",
      "Generated: arbeitgeber fordert kündigung <end>  True: fristlose kündigung um zu wandeln in eine fristgerechte ? <end>\n"
     ]
    },
    {
     "data": {
      "application/vnd.jupyter.widget-view+json": {
       "model_id": "5796ede4102a48f29dc053be93f1fbff",
       "version_major": 2,
       "version_minor": 0
      },
      "text/plain": [
       "HBox(children=(IntProgress(value=0, description='Epoch 14', max=780, style=ProgressStyle(description_width='in…"
      ]
     },
     "metadata": {},
     "output_type": "display_data"
    },
    {
     "name": "stdout",
     "output_type": "stream",
     "text": [
      "\n",
      "----- Title of question #13 -----\n",
      "Generated: urlaubsabgeltung bei kündigung <end>  True: <start> urlaubsabgeltung bei kündigung in probezeit nach krankheit <end>\n",
      "----- Title of question #80 -----\n",
      "Generated: kündigung während der elternzeit <end>  True: <start> eigene kündigung zum ende der elternzeit <end>\n",
      "----- Title of question #20 -----\n",
      "Generated: gefährliche körperverletzung <end>  True: <start> gefährliche körperverletzung jugendstrafrecht ? <end>\n",
      "----- Title of question #17 -----\n",
      "Generated: erbschaft ausschlagen <end>  True: jetzt machen damit ich die erbschaft ausschlagen kann ? <end>\n",
      "----- Title of question #35 -----\n",
      "Generated: werkvertrag für <end>  True: <start> differenz zwischen angebot und schlußrechnung <end>\n",
      "----- Title of question #43 -----\n",
      "Generated: erbrecht verjährung <end>  True: <start> befreiung von beibringung des <end>\n",
      "----- Title of question #44 -----\n",
      "Generated: kündigung des resturlaubs kündigen <end>  True: <start> kündigung duch arbeitgeber <end>\n",
      "----- Title of question #23 -----\n",
      "Generated: smartphone bei kauf eines internet <end>  True: in belgien versand auf die philippinen gerät nach monaten <end>\n",
      "----- Title of question #11 -----\n",
      "Generated: pflichtteil erbe <end>  True: <start> berliner testament pflichtteil des kindes <end>\n",
      "----- Title of question #55 -----\n",
      "Generated: vertragsrecht werksvertrag <end>  True: <start> neuwagenkauf über freien vermittler <end>\n"
     ]
    },
    {
     "data": {
      "application/vnd.jupyter.widget-view+json": {
       "model_id": "3e45c3d5b4c94274aa043b080eb29e07",
       "version_major": 2,
       "version_minor": 0
      },
      "text/plain": [
       "HBox(children=(IntProgress(value=0, description='Epoch 15', max=780, style=ProgressStyle(description_width='in…"
      ]
     },
     "metadata": {},
     "output_type": "display_data"
    },
    {
     "name": "stdout",
     "output_type": "stream",
     "text": [
      "\n",
      "----- Title of question #49 -----\n",
      "Generated: rechnung nicht bezahlt <end>  True: <start> ware unvollständig erhalten <end>\n",
      "----- Title of question #25 -----\n",
      "Generated: ansprüche aus österreich pflichtteil <end>  True: güterrecht ansprüche nicht geltend gemacht indexierung a passiva anwaltshaftung <end>\n",
      "----- Title of question #97 -----\n",
      "Generated: bußgeldbescheid wegen geschwindigkeitsüberschreitung <end>  True: pkw ist worden den fahrer nur vom namen her <end>\n",
      "----- Title of question #34 -----\n",
      "Generated: umzug <end>  True: <start> mitwirkungspflicht einforderung von bescheiden relevant notwendig ? <end>\n",
      "----- Title of question #74 -----\n",
      "Generated: hausverkauf hausverkauf <end>  True: <start> gemeinsam geerbtes haus auszahlung <end>\n",
      "----- Title of question #99 -----\n",
      "Generated: umsatzsteuer bei <end>  True: wieso muß der aussteller einer gutschrift umsatzsteuer abführen ? <end>\n",
      "----- Title of question #19 -----\n",
      "Generated: unterhalt bei alg ii <end>  True: für vergangene zeiten wenn sie sich von nun an <end>\n",
      "----- Title of question #60 -----\n",
      "Generated: unterschlagung bewährung <end>  True: <start> nötigung kreditbetrug <end>\n",
      "----- Title of question #45 -----\n",
      "Generated: widerruf eines kaufvertrages <end>  True: <start> widerruf handyvertrag <end>\n",
      "----- Title of question #4 -----\n",
      "Generated: wer ist die weg beschluss weg ? <end>  True: <start> wahl des beirates einer weg <end>\n"
     ]
    },
    {
     "data": {
      "application/vnd.jupyter.widget-view+json": {
       "model_id": "f0eecffc5c4c4adf92181e2296dba6ac",
       "version_major": 2,
       "version_minor": 0
      },
      "text/plain": [
       "HBox(children=(IntProgress(value=0, description='Epoch 16', max=780, style=ProgressStyle(description_width='in…"
      ]
     },
     "metadata": {},
     "output_type": "display_data"
    },
    {
     "name": "stdout",
     "output_type": "stream",
     "text": [
      "\n",
      "----- Title of question #87 -----\n",
      "Generated: wechsel in gkv familienversicherung <end>  True: <start> wechsel in die gkv als rentner ? <end>\n",
      "----- Title of question #61 -----\n",
      "Generated: führerschein in deutschland <end>  True: <start> hallo fs ohne mpu ? <end>\n",
      "----- Title of question #4 -----\n",
      "Generated: notarrechnung <end>  True: <start> wahl des beirates einer weg <end>\n",
      "----- Title of question #2 -----\n",
      "Generated: unterhalt für unterhalt <end>  True: behörde mir von meinem einkommen sozialhilfe wegnehmen kindesunterhalt ? <end>\n",
      "----- Title of question #75 -----\n",
      "Generated: strafanzeige wegen harz <end>  True: <start> konto meiner frau aufgelöst <end>\n",
      "----- Title of question #36 -----\n",
      "Generated: kostenvoranschlag für kostenvoranschlag auftrag <end>  True: <start> kostenvoranschlag <end>\n",
      "----- Title of question #68 -----\n",
      "Generated: vererben von erbschaft <end>  True: <start> pflichtteilsanspruch mit bedingung ? <end>\n",
      "----- Title of question #71 -----\n",
      "Generated: rückerstattung von privat führerschein privat unter wohnrecht <end>  True: welche kosten müssen beim erfolgten rücktritt erstattet werden ? <end>\n",
      "----- Title of question #11 -----\n",
      "Generated: pflichtteil erbe <end>  True: <start> berliner testament pflichtteil des kindes <end>\n",
      "----- Title of question #25 -----\n",
      "Generated: weg bgb <end>  True: güterrecht ansprüche nicht geltend gemacht indexierung a passiva anwaltshaftung <end>\n"
     ]
    },
    {
     "data": {
      "application/vnd.jupyter.widget-view+json": {
       "model_id": "303209c36c594b1186bc93f10c3cfd61",
       "version_major": 2,
       "version_minor": 0
      },
      "text/plain": [
       "HBox(children=(IntProgress(value=0, description='Epoch 17', max=780, style=ProgressStyle(description_width='in…"
      ]
     },
     "metadata": {},
     "output_type": "display_data"
    },
    {
     "name": "stdout",
     "output_type": "stream",
     "text": [
      "\n",
      "----- Title of question #75 -----\n",
      "Generated: ich mich aus meiner frau <end>  True: <start> konto meiner frau aufgelöst <end>\n",
      "----- Title of question #71 -----\n",
      "Generated: fragen an der auslöse ? <end>  True: welche kosten müssen beim erfolgten rücktritt erstattet werden ? <end>\n",
      "----- Title of question #58 -----\n",
      "Generated: bei mehreren und bei nebenberuflich waren <end>  True: <start> arbeitsunfähigkeitsbescheinigung <end>\n",
      "----- Title of question #45 -----\n",
      "Generated: widerruf der widerrufsfrist <end>  True: <start> widerruf handyvertrag <end>\n",
      "----- Title of question #73 -----\n",
      "Generated: doppelte anmeldung bei hartz <end>  True: <start> hartz mietrecht <end>\n",
      "----- Title of question #59 -----\n",
      "Generated: in der verauslagten <end>  True: <start> rückbau von pv anlagen auf in hessen ? <end>\n",
      "----- Title of question #5 -----\n",
      "Generated: kündigung durch arbeitgeber <end>  True: fristlose kündigung um zu wandeln in eine fristgerechte ? <end>\n",
      "----- Title of question #9 -----\n",
      "Generated: weg weg beschluss <end>  True: <start> sondernutzungsrecht im erdgeschoss einer eigentümergemeinschaft bj <end>\n",
      "----- Title of question #79 -----\n",
      "Generated: nachlassverzeichnis durch fehler <end>  True: <start> angebliche schenkung unrechtmäßige bereicherung <end>\n",
      "----- Title of question #86 -----\n",
      "Generated: bestattungsvorsorge <end>  True: <start> erbfolge brd <end>\n"
     ]
    },
    {
     "data": {
      "application/vnd.jupyter.widget-view+json": {
       "model_id": "340b09ae1041475e96d6775a58bfc939",
       "version_major": 2,
       "version_minor": 0
      },
      "text/plain": [
       "HBox(children=(IntProgress(value=0, description='Epoch 18', max=780, style=ProgressStyle(description_width='in…"
      ]
     },
     "metadata": {},
     "output_type": "display_data"
    },
    {
     "name": "stdout",
     "output_type": "stream",
     "text": [
      "\n",
      "----- Title of question #18 -----\n",
      "Generated: in der gesetzlichen jahren in deutschland bei umzug ins ausland  True: <start> wer übernimmt krankheitskosten bei entsendung des arbeitnehmers ? <end>\n",
      "----- Title of question #43 -----\n",
      "Generated: <end>  True: <start> befreiung von beibringung des <end>\n",
      "----- Title of question #32 -----\n",
      "Generated: unfallschaden beim autokauf unfall <end>  True: <start> auto war totalschaden <end>\n",
      "----- Title of question #29 -----\n",
      "Generated: ehevertrag ehevertrag ehevertrag <end>  True: <start> ehevertrag ungülgitg gütertrennungsklausel weiterhin gültig ? <end>\n",
      "----- Title of question #61 -----\n",
      "Generated: führerschein in der eu führerschein <end>  True: <start> hallo fs ohne mpu ? <end>\n",
      "----- Title of question #95 -----\n",
      "Generated: strafanzeige gegen unterlassungserklärung <end>  True: <start> strafanzeige wegen internetveröffentlichung gegen einen verein <end>\n",
      "----- Title of question #35 -----\n",
      "Generated: angebot einer <end>  True: <start> differenz zwischen angebot und schlußrechnung <end>\n",
      "----- Title of question #16 -----\n",
      "Generated: befristeter arbeitsvertrag vorzeitig <end>  True: <start> zeit und sachbefristung <end>\n",
      "----- Title of question #17 -----\n",
      "Generated: wer muss werden ? <end>  True: jetzt machen damit ich die erbschaft ausschlagen kann ? <end>\n",
      "----- Title of question #76 -----\n",
      "Generated: eigentümer weg miteigentümer <end>  True: <start> versorgungsleitungen des nachbarn durch meine wohnung <end>\n"
     ]
    },
    {
     "data": {
      "application/vnd.jupyter.widget-view+json": {
       "model_id": "b7fe6683618140f8961963ce8c2a4192",
       "version_major": 2,
       "version_minor": 0
      },
      "text/plain": [
       "HBox(children=(IntProgress(value=0, description='Epoch 19', max=780, style=ProgressStyle(description_width='in…"
      ]
     },
     "metadata": {},
     "output_type": "display_data"
    },
    {
     "name": "stdout",
     "output_type": "stream",
     "text": [
      "\n",
      "----- Title of question #89 -----\n",
      "Generated: für wechsel von <end>  True: <start> durch jobagentur <end>\n",
      "----- Title of question #29 -----\n",
      "Generated: ehevertrag ehevertrag ehevertrag <end>  True: <start> ehevertrag ungülgitg gütertrennungsklausel weiterhin gültig ? <end>\n",
      "----- Title of question #53 -----\n",
      "Generated: nach btmg <end>  True: <start> übernahme des grundstückes ohne abgrenzungen <end>\n",
      "----- Title of question #70 -----\n",
      "Generated: schwerbehinderung und <end>  True: bbig voraussetzungen für einen praktikumsplatz steuer bei einem rechtsanwalt <end>\n",
      "----- Title of question #17 -----\n",
      "Generated: erbschaft einbehalten ? <end>  True: jetzt machen damit ich die erbschaft ausschlagen kann ? <end>\n",
      "----- Title of question #10 -----\n",
      "Generated: anzeige wegen verleumdung am arbeitsplatz <end>  True: <start> verleumdung und rufmord <end>\n",
      "----- Title of question #25 -----\n",
      "Generated: zugewinn bei der geschäftsgrundlage im rahmen der <end>  True: güterrecht ansprüche nicht geltend gemacht indexierung a passiva anwaltshaftung <end>\n",
      "----- Title of question #38 -----\n",
      "Generated: frage zu einer <end>  True: <start> hilfe ebay und betrug <end>\n",
      "----- Title of question #22 -----\n",
      "Generated: arglistige täuschung beim kauf einer löschungsbewilligung <end>  True: <start> wegerecht täuschung bei kaufvertrag <end>\n",
      "----- Title of question #91 -----\n",
      "Generated: scheidung ohne mein kind <end>  True: <start> scheidung von einer filipina versorgungsausgleich <end>\n"
     ]
    },
    {
     "data": {
      "application/vnd.jupyter.widget-view+json": {
       "model_id": "776b07475d2e47f583cb4a1e3e2cc545",
       "version_major": 2,
       "version_minor": 0
      },
      "text/plain": [
       "HBox(children=(IntProgress(value=0, description='Epoch 20', max=780, style=ProgressStyle(description_width='in…"
      ]
     },
     "metadata": {},
     "output_type": "display_data"
    },
    {
     "name": "stdout",
     "output_type": "stream",
     "text": [
      "\n",
      "----- Title of question #27 -----\n",
      "Generated: mietvertrag ohne <end>  True: <start> kostenübernahme für übernommene bauliche änderungen rechtens ? <end>\n",
      "----- Title of question #7 -----\n",
      "Generated: teilzeit während elternzeit <end>  True: <start> teilzeit in elternzeit änderungsvertrag oder ergänzungsvertrag <end>\n",
      "----- Title of question #90 -----\n",
      "Generated: freiwillige steuererklärung <end>  True: <start> besteuerung rente aus singapur <end>\n",
      "----- Title of question #69 -----\n",
      "Generated: alg kindergeld alg mit partner <end>  True: <start> tochter bekommt nach ausbildung alg <end>\n",
      "----- Title of question #25 -----\n",
      "Generated: zugewinn erbschein als die befangenheit im familiengericht ? <end>  True: güterrecht ansprüche nicht geltend gemacht indexierung a passiva anwaltshaftung <end>\n",
      "----- Title of question #75 -----\n",
      "Generated: anzeige wegen verleumdung <end>  True: <start> konto meiner frau aufgelöst <end>\n",
      "----- Title of question #32 -----\n",
      "Generated: fahrzeug unfallschaden entdeckt unfallschaden entdeckt <end>  True: <start> auto war totalschaden <end>\n",
      "----- Title of question #61 -----\n",
      "Generated: mpu führerschein <end>  True: <start> hallo fs ohne mpu ? <end>\n",
      "----- Title of question #16 -----\n",
      "Generated: befristeter arbeitsvertrag trotz kündigung <end>  True: <start> zeit und sachbefristung <end>\n",
      "----- Title of question #31 -----\n",
      "Generated: ? <end>  True: <start> wiederholter ladendiebstahl verbeamtung ? <end>\n"
     ]
    }
   ],
   "source": [
    "for epoch in range(1, epochs + 1):\n",
    "    with tqdm(total=questions_seq.shape[0] // batch_size, desc='Epoch {}'.format(epoch)) as p_bar:\n",
    "        for i, (questions_batch, titles_batch) in enumerate(dataset):\n",
    "            batch_loss = batch_step(questions_batch, titles_batch)\n",
    "            p_bar.update(1)\n",
    "            p_bar.set_postfix_str(\"Training loss: {0:.3f}\".format(batch_loss.numpy()))\n",
    "        \n",
    "    # After end of epoch, validate and generate some titles\n",
    "    val_loss = validate_model(questions_val, titles_val)\n",
    "    print('Epoch', epoch, 'Validation loss:', val_loss)\n",
    "    generate_titles(questions_val, titles_val, how_many=10)"
   ]
  },
  {
   "cell_type": "markdown",
   "metadata": {},
   "source": [
    "### Train for 20 more epochs"
   ]
  },
  {
   "cell_type": "code",
   "execution_count": 441,
   "metadata": {},
   "outputs": [],
   "source": [
    "for epoch in range(1, epochs + 1):\n",
    "    with tqdm(total=questions_seq.shape[0] // batch_size, desc='Epoch {}'.format(epoch)) as p_bar:\n",
    "        for i, (questions_batch, titles_batch) in enumerate(dataset):\n",
    "            batch_loss = batch_step(questions_batch, titles_batch)\n",
    "            p_bar.update(1)\n",
    "            p_bar.set_postfix_str(\"Training loss: {0:.3f}\".format(batch_loss.numpy()))\n",
    "        \n",
    "    # After end of epoch, validate and generate some titles\n",
    "    val_loss = validate_model(questions_val, titles_val)\n",
    "    print('Epoch', epoch, 'Validation loss:', val_loss.numpy())\n",
    "    generate_titles(questions_val, titles_val, how_many=10)"
   ]
  },
  {
   "cell_type": "code",
   "execution_count": 6,
   "metadata": {},
   "outputs": [],
   "source": [
    "title_gen = TitleGenerator()"
   ]
  },
  {
   "cell_type": "code",
   "execution_count": 416,
   "metadata": {},
   "outputs": [],
   "source": [
    "# Save \n",
    "# encoder.save_weights(os.path.join(\"models\", \"encoder_\" + \"bidirectional_20epochs\"))\n",
    "# decoder.save_weights(os.path.join(\"models\", \"decoder_\" + \"bidirectional_20epochs\"))"
   ]
  },
  {
   "cell_type": "code",
   "execution_count": 7,
   "metadata": {},
   "outputs": [],
   "source": [
    "raw_text = \"\"\" Im Jahre 1998 wurde ich zu 6 Monaten Haft auf Bewährung verurteilt. Grund war Besitz und Verbreitung kinderpornografischer Schriften. Zusätzlich erhielt ich eine Auflage des Verbots der Betreuung und Beaufsichtigung von Kindern und Jugendlichen (oder so ähnlich). Im normalen Führungszeugnis wurde das ja schon längst nicht mehr ausgewiesen. Wie verhält es sich beim erweiterten Führungszeugnis. Taucht hier noch irgendetwas auf bzw. wann wurde das ggf. getilgt? \"\"\""
   ]
  },
  {
   "cell_type": "code",
   "execution_count": 8,
   "metadata": {},
   "outputs": [
    {
     "data": {
      "text/plain": [
       "'Erweitertes führungszeugnis'"
      ]
     },
     "execution_count": 8,
     "metadata": {},
     "output_type": "execute_result"
    }
   ],
   "source": [
    "title_gen.generate_title(raw_text)"
   ]
  },
  {
   "cell_type": "code",
   "execution_count": 439,
   "metadata": {},
   "outputs": [
    {
     "data": {
      "text/plain": [
       "<tf.Tensor: id=318648821, shape=(), dtype=float32, numpy=3.7262657>"
      ]
     },
     "execution_count": 439,
     "metadata": {},
     "output_type": "execute_result"
    }
   ],
   "source": [
    "validate_model(questions_val, titles_val)"
   ]
  },
  {
   "cell_type": "code",
   "execution_count": null,
   "metadata": {},
   "outputs": [],
   "source": [
    "title_gen.generate_title(raw_text)"
   ]
  },
  {
   "cell_type": "markdown",
   "metadata": {},
   "source": [
    "### Train with dropout"
   ]
  },
  {
   "cell_type": "code",
   "execution_count": null,
   "metadata": {},
   "outputs": [],
   "source": [
    "encoder = Encoder(vocab_size_q, embedding_dim, enc_units=enc_units)\n",
    "decoder = Decoder(vocab_size_t, embedding_dim, dec_units=dec_units)\n",
    "optimizer = tf.train.RMSPropOptimizer(learning_rate=learning_rate)\n",
    "dataset = tf.data.Dataset.from_tensor_slices((questions_seq, titles_seq))\n",
    "dataset = dataset.shuffle(questions_seq.shape[0]).batch(batch_size)"
   ]
  },
  {
   "cell_type": "code",
   "execution_count": null,
   "metadata": {},
   "outputs": [],
   "source": []
  }
 ],
 "metadata": {
  "kernelspec": {
   "display_name": "Python 3",
   "language": "python",
   "name": "python3"
  },
  "language_info": {
   "codemirror_mode": {
    "name": "ipython",
    "version": 3
   },
   "file_extension": ".py",
   "mimetype": "text/x-python",
   "name": "python",
   "nbconvert_exporter": "python",
   "pygments_lexer": "ipython3",
   "version": "3.7.1"
  },
  "toc": {
   "base_numbering": 1,
   "nav_menu": {},
   "number_sections": true,
   "sideBar": true,
   "skip_h1_title": false,
   "title_cell": "Table of Contents",
   "title_sidebar": "Contents",
   "toc_cell": false,
   "toc_position": {
    "height": "calc(100% - 180px)",
    "left": "10px",
    "top": "150px",
    "width": "165px"
   },
   "toc_section_display": true,
   "toc_window_display": true
  }
 },
 "nbformat": 4,
 "nbformat_minor": 2
}
